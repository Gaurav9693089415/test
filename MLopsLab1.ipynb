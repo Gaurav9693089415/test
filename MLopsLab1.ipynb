{
  "nbformat": 4,
  "nbformat_minor": 0,
  "metadata": {
    "colab": {
      "provenance": []
    },
    "kernelspec": {
      "name": "python3",
      "display_name": "Python 3"
    },
    "language_info": {
      "name": "python"
    }
  },
  "cells": [
    {
      "cell_type": "code",
      "execution_count": 1,
      "metadata": {
        "colab": {
          "base_uri": "https://localhost:8080/"
        },
        "id": "kKLoVEr36ET4",
        "outputId": "62664791-a39d-461d-c358-8d10fabed4af"
      },
      "outputs": [
        {
          "output_type": "stream",
          "name": "stdout",
          "text": [
            "Collecting cookiecutter\n",
            "  Downloading cookiecutter-2.6.0-py3-none-any.whl.metadata (7.3 kB)\n",
            "Collecting binaryornot>=0.4.4 (from cookiecutter)\n",
            "  Downloading binaryornot-0.4.4-py2.py3-none-any.whl.metadata (6.0 kB)\n",
            "Requirement already satisfied: Jinja2<4.0.0,>=2.7 in /usr/local/lib/python3.11/dist-packages (from cookiecutter) (3.1.5)\n",
            "Requirement already satisfied: click<9.0.0,>=7.0 in /usr/local/lib/python3.11/dist-packages (from cookiecutter) (8.1.8)\n",
            "Requirement already satisfied: pyyaml>=5.3.1 in /usr/local/lib/python3.11/dist-packages (from cookiecutter) (6.0.2)\n",
            "Requirement already satisfied: python-slugify>=4.0.0 in /usr/local/lib/python3.11/dist-packages (from cookiecutter) (8.0.4)\n",
            "Requirement already satisfied: requests>=2.23.0 in /usr/local/lib/python3.11/dist-packages (from cookiecutter) (2.32.3)\n",
            "Collecting arrow (from cookiecutter)\n",
            "  Downloading arrow-1.3.0-py3-none-any.whl.metadata (7.5 kB)\n",
            "Requirement already satisfied: rich in /usr/local/lib/python3.11/dist-packages (from cookiecutter) (13.9.4)\n",
            "Requirement already satisfied: chardet>=3.0.2 in /usr/local/lib/python3.11/dist-packages (from binaryornot>=0.4.4->cookiecutter) (5.2.0)\n",
            "Requirement already satisfied: MarkupSafe>=2.0 in /usr/local/lib/python3.11/dist-packages (from Jinja2<4.0.0,>=2.7->cookiecutter) (3.0.2)\n",
            "Requirement already satisfied: text-unidecode>=1.3 in /usr/local/lib/python3.11/dist-packages (from python-slugify>=4.0.0->cookiecutter) (1.3)\n",
            "Requirement already satisfied: charset-normalizer<4,>=2 in /usr/local/lib/python3.11/dist-packages (from requests>=2.23.0->cookiecutter) (3.4.1)\n",
            "Requirement already satisfied: idna<4,>=2.5 in /usr/local/lib/python3.11/dist-packages (from requests>=2.23.0->cookiecutter) (3.10)\n",
            "Requirement already satisfied: urllib3<3,>=1.21.1 in /usr/local/lib/python3.11/dist-packages (from requests>=2.23.0->cookiecutter) (2.3.0)\n",
            "Requirement already satisfied: certifi>=2017.4.17 in /usr/local/lib/python3.11/dist-packages (from requests>=2.23.0->cookiecutter) (2024.12.14)\n",
            "Requirement already satisfied: python-dateutil>=2.7.0 in /usr/local/lib/python3.11/dist-packages (from arrow->cookiecutter) (2.8.2)\n",
            "Collecting types-python-dateutil>=2.8.10 (from arrow->cookiecutter)\n",
            "  Downloading types_python_dateutil-2.9.0.20241206-py3-none-any.whl.metadata (2.1 kB)\n",
            "Requirement already satisfied: markdown-it-py>=2.2.0 in /usr/local/lib/python3.11/dist-packages (from rich->cookiecutter) (3.0.0)\n",
            "Requirement already satisfied: pygments<3.0.0,>=2.13.0 in /usr/local/lib/python3.11/dist-packages (from rich->cookiecutter) (2.18.0)\n",
            "Requirement already satisfied: mdurl~=0.1 in /usr/local/lib/python3.11/dist-packages (from markdown-it-py>=2.2.0->rich->cookiecutter) (0.1.2)\n",
            "Requirement already satisfied: six>=1.5 in /usr/local/lib/python3.11/dist-packages (from python-dateutil>=2.7.0->arrow->cookiecutter) (1.17.0)\n",
            "Downloading cookiecutter-2.6.0-py3-none-any.whl (39 kB)\n",
            "Downloading binaryornot-0.4.4-py2.py3-none-any.whl (9.0 kB)\n",
            "Downloading arrow-1.3.0-py3-none-any.whl (66 kB)\n",
            "\u001b[2K   \u001b[90m━━━━━━━━━━━━━━━━━━━━━━━━━━━━━━━━━━━━━━━━\u001b[0m \u001b[32m66.4/66.4 kB\u001b[0m \u001b[31m3.0 MB/s\u001b[0m eta \u001b[36m0:00:00\u001b[0m\n",
            "\u001b[?25hDownloading types_python_dateutil-2.9.0.20241206-py3-none-any.whl (14 kB)\n",
            "Installing collected packages: types-python-dateutil, binaryornot, arrow, cookiecutter\n",
            "Successfully installed arrow-1.3.0 binaryornot-0.4.4 cookiecutter-2.6.0 types-python-dateutil-2.9.0.20241206\n"
          ]
        }
      ],
      "source": [
        "pip install cookiecutter"
      ]
    },
    {
      "cell_type": "code",
      "source": [
        "!cookiecutter gh:audreyfeldroy/cookiecutter-pypackage"
      ],
      "metadata": {
        "colab": {
          "base_uri": "https://localhost:8080/"
        },
        "id": "IzRAsSIi6KDe",
        "outputId": "84857cb6-d1e5-4751-e742-5334c7cfd329"
      },
      "execution_count": 3,
      "outputs": [
        {
          "output_type": "stream",
          "name": "stdout",
          "text": [
            "  \u001b[2m[1/14]\u001b[0m full_name \u001b[1;36m(Audrey Roy Greenfeld)\u001b[0m: Gaurav Kumar\n",
            "  \u001b[2m[2/14]\u001b[0m email \u001b[1;36m(audreyr@example.com)\u001b[0m: hindugauravprataplahotiya@gmail.com\n",
            "  \u001b[2m[3/14]\u001b[0m github_username \u001b[1;36m(audreyr)\u001b[0m: gaurav9693089415\n",
            "  \u001b[2m[4/14]\u001b[0m project_name \u001b[1;36m(Python Boilerplate)\u001b[0m: Lab1Mlops\n",
            "  \u001b[2m[5/14]\u001b[0m project_slug \u001b[1;36m(lab1mlops)\u001b[0m: cookiecutter\n",
            "  \u001b[2m[6/14]\u001b[0m project_short_description \u001b[1;36m(Python Boilerplate contains all the boilerplate you need to \u001b[0m\n",
            "\u001b[1;36mcreate a Python package.)\u001b[0m: mlops first lab Class\n",
            "  \u001b[2m[7/14]\u001b[0m pypi_username \u001b[1;36m(gaurav9693089415)\u001b[0m: \n",
            "  \u001b[2m[8/14]\u001b[0m version \u001b[1;36m(0.1.0)\u001b[0m: \n",
            "  \u001b[2m[9/14]\u001b[0m use_pytest \u001b[1;36m(n)\u001b[0m: \n",
            "  \u001b[2m[10/14]\u001b[0m use_pypi_deployment_with_travis \u001b[1;36m(y)\u001b[0m: \n",
            "  \u001b[2m[11/14]\u001b[0m add_pyup_badge \u001b[1;36m(n)\u001b[0m: \n",
            "  \u001b[2m[12/14]\u001b[0m Select command_line_interface\n",
            "    \u001b[1;35m1\u001b[0m - \u001b[1mTyper\u001b[0m\n",
            "    \u001b[1;35m2\u001b[0m - \u001b[1mArgparse\u001b[0m\n",
            "    \u001b[1;35m3\u001b[0m - \u001b[1mNo command-line interface\u001b[0m\n",
            "    Choose from \u001b[1;35m[1/2/3]\u001b[0m \u001b[1;36m(1)\u001b[0m: 2\n",
            "  \u001b[2m[13/14]\u001b[0m create_author_file \u001b[1;36m(y)\u001b[0m: 2\n",
            "  \u001b[2m[14/14]\u001b[0m Select open_source_license\n",
            "    \u001b[1;35m1\u001b[0m - \u001b[1mMIT license\u001b[0m\n",
            "    \u001b[1;35m2\u001b[0m - \u001b[1mBSD license\u001b[0m\n",
            "    \u001b[1;35m3\u001b[0m - \u001b[1mISC license\u001b[0m\n",
            "    \u001b[1;35m4\u001b[0m - \u001b[1mApache Software License 2.0\u001b[0m\n",
            "    \u001b[1;35m5\u001b[0m - \u001b[1mGNU General Public License v3\u001b[0m\n",
            "    \u001b[1;35m6\u001b[0m - \u001b[1mNot open source\u001b[0m\n",
            "    Choose from \u001b[1;35m[1/2/3/4/5/6]\u001b[0m \u001b[1;36m(1)\u001b[0m: 1\n"
          ]
        }
      ]
    },
    {
      "cell_type": "code",
      "source": [],
      "metadata": {
        "id": "QxTOil4O6Rjn"
      },
      "execution_count": null,
      "outputs": []
    }
  ]
}